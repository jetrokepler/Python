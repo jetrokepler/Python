{
 "cells": [
  {
   "cell_type": "markdown",
   "metadata": {},
   "source": [
    "# Capítulo I\n",
    "# *Conceitos básicos.*\n",
    "\n",
    "##### ALGORÍTIMO\n",
    "\n",
    "**Um algoritmo é um conjunto de etapas utilizadas para resolver problemas de forma organizada**. É uma sequência finita de comandos, uma sequeência lógica de procedimentos.\n",
    "\n",
    "Um algoritmo possui três etapas:\n",
    "- ***Entrada*** - É a etapa que obtém as informações de entrada para o algoritmo, ou seja, as informações que ele vai processar;\n",
    "- ***Processamento*** - Faz o trabalho do algoritmo, ou seja, faz o que tem que fazer;\n",
    "- ***Saída*** - Mostra o resultado do algoritmo.\n",
    "\n",
    "Exemplo - Algoritmo de uma média aritmética:\n",
    "- Entrada - 3,7,9,2;\n",
    "- Processamento - 3 + 7 + 9 + 2 / 4\n",
    "- Saída - 5,25\n",
    "\n",
    "E na programação, como funciona?\n",
    "Na programação, utilizamos as linguagens de programação para criar algoritmos, ou seja, utilizamos as linguagens para escrever comandos que explicam ao computador, passo a passo, etapa por etapa, o que ele deve fazer. Explica-se quais e como as entradas serão obtidas, como ele deve processar essas entradas, e como ele deve exibir a saída.\n",
    "\n",
    "##### ENTRADA E SAÍDA"
   ]
  },
  {
   "cell_type": "code",
   "execution_count": null,
   "metadata": {},
   "outputs": [],
   "source": [
    "input() # O input é utilizado para entrada de dados, para receber alguma informação digitada pelo usuário.\n",
    "\n",
    "print(\"Olá, seja bem vindo!\") # O print é utilizado para saída de dados, para imprimir algo na tela.\n",
    "\n",
    "user = input(\"Informe seu nome: \")\n",
    "print(\"olá, \" + user + \", Como vai?\")"
   ]
  },
  {
   "cell_type": "markdown",
   "metadata": {},
   "source": [
    "##### VARIÁVEIS\n",
    "\n",
    "Por quê usar variáveis?\n",
    "O motivo principal de usar variáveis, em qualquer linguagem de programação, é porque elas são uma forma de você ter um lugar para guardar os dados recebidos do seu programa, como suas expressões, cálculos, em um lugar, para que possa ser reutilizado de outra forma, em outro momento. "
   ]
  },
  {
   "cell_type": "code",
   "execution_count": null,
   "metadata": {},
   "outputs": [],
   "source": [
    "velocidademax = 240 # Esse tipo de variável é chamado int, pois apresenta um número inteiro.\n",
    "\n",
    "# Para ver essa informação na tela, usa-se o comando print:\n",
    "\n",
    "print(velocidademax)"
   ]
  },
  {
   "cell_type": "code",
   "execution_count": null,
   "metadata": {},
   "outputs": [],
   "source": [
    "frase = \"Olá, seja bem vindo!\" # Esse tipo de variável é chamado String (str) pois é um local onde posso guardar caracteres, frases, textos, símbolos especiais, e, de forma geral, tudo que é colocado dentro das aspas, serão interpretadas como texto.\n",
    "\n",
    "print(frase)"
   ]
  },
  {
   "cell_type": "code",
   "execution_count": null,
   "metadata": {},
   "outputs": [],
   "source": [
    "# Em algumas situações será necessário tomar decisões dentro do seu programa, e para tomar decisões será necessário entender se algo é vedadeiro ou falso. True é usado para verdadeiro e False para falso, esses valores são chamados de boleanos (bool).\n",
    "\n",
    "possuicpf = True\n",
    "possuicnh = False"
   ]
  },
  {
   "cell_type": "code",
   "execution_count": null,
   "metadata": {},
   "outputs": [],
   "source": [
    "# Também exisite um tipo de variável que armazena valores decimais, essas variáveis são chamadas de float.\n",
    "\n",
    "dolaramericano = 5.34"
   ]
  },
  {
   "cell_type": "code",
   "execution_count": null,
   "metadata": {},
   "outputs": [],
   "source": [
    "# existe também, um jeito de descobrir o tipo de uma variável:\n",
    "\n",
    "velocidademax = 240\n",
    "frase = \"Olá, seja bem vindo!\"\n",
    "possuicpf = True\n",
    "possuicnh = False\n",
    "dolaramericano = 5.34\n",
    "\n",
    "print(type(velocidademax))\n",
    "print(type(frase))\n",
    "print(type(possuicpf))\n",
    "print(type(possuicnh))\n",
    "print(type(dolaramericano))"
   ]
  },
  {
   "cell_type": "code",
   "execution_count": null,
   "metadata": {},
   "outputs": [],
   "source": [
    "# Também dá para colocar atribuir valores à mais de uma variável em uma mesma linha:\n",
    "\n",
    "velocidade,frase,possuicpf,dolaramericano = 240,\"Olá, seja bem vindo!\",True,5.34\n",
    "\n",
    "print(velocidade,frase,possuicpf,dolaramericano)\n",
    "\n",
    "# Esse é o primeiro pilar da programação, o pilar das variáveis."
   ]
  },
  {
   "cell_type": "markdown",
   "metadata": {},
   "source": [
    "##### OPERADOR DE ATRIBUIÇÃO (=)\n",
    "\n",
    "Um operador de atribuição tem como objetivo colocar um valor dentro de uma variável. A depender da posição direita ou esquerda de uma variável em relação ao operador de atribuição, ela pode desepenhar um papel ativo ou passivo."
   ]
  },
  {
   "cell_type": "code",
   "execution_count": null,
   "metadata": {},
   "outputs": [],
   "source": [
    "primeirovalor = 50 # A variável está colocada à esquerda, de tal forma que ela desempenha um papel passivo, ou seja, ela será modificada pelo o que está do lado direito.\n",
    "\n",
    "segundovalor = primeirovalor # Neste caso, a variável está colocada à direita, desempenhando um papel ativo, ou seja, modificando o que está do lado esquerdo."
   ]
  },
  {
   "cell_type": "markdown",
   "metadata": {},
   "source": [
    "##### OPERADORES ARITMÉTICOS (+,-,*,/,%)\n",
    "\n",
    "As principais liguagens de programação utilizam os operadores aritméticos para realizar as operações básicas dá Matemática.\n",
    "\n",
    "+ representa soma;\n",
    "- representa subtração;\n",
    "* representa multiplicação;\n",
    "/ representa divisão;# ** representa exponenciação;\n",
    "% representa resto da divisão.\n",
    "\n",
    "Exemplo um - Algoritmo ulitilizando operadores aritméticos - Média aritmética."
   ]
  },
  {
   "cell_type": "code",
   "execution_count": null,
   "metadata": {},
   "outputs": [],
   "source": [
    "# Declaração de variáveis.\n",
    "nota1 = int\n",
    "nota2 = int\n",
    "nota3 = int\n",
    "nota4 = int\n",
    "media = float\n",
    "\n",
    "# Entrada de dados.\n",
    "nota1 = int(input(\"Informe a primeira nota: \"))\n",
    "nota2 = int(input(\"Informe a segunda nota: \"))\n",
    "nota3 = int(input(\"Informe a terceira nota: \"))\n",
    "nota4 = int(input(\"Informe a quarta nota: \"))\n",
    "\n",
    "# Processamento.\n",
    "media = (nota1 + nota2 + nota3 + nota4) / 4\n",
    "\n",
    "# Saída de dados.\n",
    "print(\"O resultado é: \" + str(media))"
   ]
  },
  {
   "cell_type": "markdown",
   "metadata": {},
   "source": [
    "Exemplo dois - Algoritmo utilizando operadores aritméticos - Valor de desconto."
   ]
  },
  {
   "cell_type": "code",
   "execution_count": null,
   "metadata": {},
   "outputs": [],
   "source": [
    "valor = float\n",
    "desconto = float\n",
    "valorcomdesconto = float\n",
    "\n",
    "valor = float(input(\"Informe o valor do produto: \"))\n",
    "desconto = int(input(\"Informe o valor do desconto (em %): \"))\n",
    "valorcomdesconto = desconto / 100 * valor\n",
    "\n",
    "print(\"O valor com desconto é igual a: \" + str(valorcomdesconto))"
   ]
  },
  {
   "cell_type": "markdown",
   "metadata": {},
   "source": [
    "##### DECLARAÇÕES CONDICIONAIS\n",
    "\n",
    "**O uso das declarações condicionais permite que o algoritmo possa optar entre fazer uma coisa ou outra**, com base no que nós conhecemos como expressão condicional.\n",
    "\n",
    "O comando **if** é uma edeclaração condicional, e o comando é executado caso a expressão condicional seja verdadeira."
   ]
  },
  {
   "cell_type": "code",
   "execution_count": null,
   "metadata": {},
   "outputs": [],
   "source": [
    "idade = int\n",
    "if idade < 18:\n",
    "    print(\"Você não pode acesssar o sistema!\") # O camando if pode restornar dois possiveis valores, verdadeiro e falso. O comando será executado apenas se a expressão condicional retornar o valor verdadeiro."
   ]
  },
  {
   "cell_type": "markdown",
   "metadata": {},
   "source": [
    "O comando **else** complementa o sentido do comando if. O else, cria aquilo que chamamos de fluxo alternativo, com o objetivo de definir a ação que será executada se a expressão condicional retornar um valor falso."
   ]
  },
  {
   "cell_type": "code",
   "execution_count": null,
   "metadata": {},
   "outputs": [],
   "source": [
    "idade = int(input(\"Informe sua idade: \"))\n",
    "\n",
    "if idade < 18:\n",
    "    print(\"Você não pode acesssar o sistema!\")\n",
    "else:\n",
    "    print(\"Bem vindo ao sistema!\") # O que irá acontecer no caso do if retornar um valor falso será a execução do else, em vez da execução do if."
   ]
  },
  {
   "cell_type": "markdown",
   "metadata": {},
   "source": [
    "Exemplo - Algoritmo utilizando estruturas condicionais - Aprovação e reprovação de um aluno."
   ]
  },
  {
   "cell_type": "code",
   "execution_count": null,
   "metadata": {},
   "outputs": [],
   "source": [
    "nota1 = float\n",
    "nota2 = float\n",
    "trabalho = float\n",
    "mediaponderada = float\n",
    "\n",
    "nota1 = float(input(\"Informe a nota da 1º prova (peso de 30%): \"))\n",
    "nota2 = float(input(\"Informe a nota da 2º prova (peso de 50%): \"))\n",
    "trabalho = float(input(\"Informe a nota do trabalho (peso de 20%): \"))\n",
    "\n",
    "mediaponderada = ((nota1 * 30) + (nota2 * 50) + (trabalho * 20)) / 100\n",
    "\n",
    "if mediaponderada >= 7:\n",
    "    print(\"Aprovado! O resultado é: \" + str(mediaponderada))\n",
    "else:\n",
    "    print(\"Reprovado! O resultado é: \" + str(mediaponderada))"
   ]
  },
  {
   "cell_type": "markdown",
   "metadata": {},
   "source": [
    "##### ESTRUTURAS CONDICIONAIS\n",
    "\n",
    "As estruturas condicionais **são declarações condicionais aninhadas, dclarações condicionais colocadas uma dentro da outra.**"
   ]
  },
  {
   "cell_type": "code",
   "execution_count": null,
   "metadata": {},
   "outputs": [],
   "source": [
    "idade = int(input(\"Informe sua idade: \"))\n",
    "\n",
    "if idade < 12:\n",
    "    print(\"Categoria: INFANTIL\")\n",
    "else:\n",
    "    if idade < 16:\n",
    "        print(\"Categoria: JUVENIL\")\n",
    "    else:\n",
    "        if idade < 20:\n",
    "            print(\"Categoria: JÚNIOR\")\n",
    "        else:\n",
    "            print(\"Categoria: ADULTO\")"
   ]
  },
  {
   "cell_type": "markdown",
   "metadata": {},
   "source": [
    "As estruturas condicionais, de uma forma padrão, sofrem de um grave problema: a falta de legibilidade, fazendo com que o algoritmo cresça para a direita, com uma forma triangular e deixando as coisas embaralhadas. Foi pra isso que surgiu o elif (else if). Funciona assim: ao invés de utilizarmos um if dentro de um else, trocamos por elif."
   ]
  },
  {
   "cell_type": "code",
   "execution_count": null,
   "metadata": {},
   "outputs": [],
   "source": [
    "idade = int(input(\"Informe sua idade: \"))\n",
    "\n",
    "if idade < 12:\n",
    "    print(\"Categoria: INFANTIL\")\n",
    "elif idade < 16:\n",
    "    print(\"Categoria: JUVENIL\")\n",
    "elif idade < 20:\n",
    "    print(\"Categoria: JÚNIOR\")\n",
    "else:\n",
    "    print(\"Categoria: ADULTO\")"
   ]
  },
  {
   "cell_type": "markdown",
   "metadata": {},
   "source": [
    "Exemplo - Cálculo de imposto de renda."
   ]
  },
  {
   "cell_type": "code",
   "execution_count": null,
   "metadata": {},
   "outputs": [],
   "source": [
    "salario = float(input(\"Digite o salário bruto mensal: R$\"))\n",
    "\n",
    "if salario > 4664.68:\n",
    "    aliquota = 37.5\n",
    "    deducao = 869.36\n",
    "elif salario <= 4664.68 and salario >= 3751.06:\n",
    "    aliquota = 22.5\n",
    "    deducao = 636.13\n",
    "elif salario <= 3751.06 and salario >= 2826.66:\n",
    "    aliquota = 15\n",
    "    deducao = 354.80\n",
    "elif salario <= 2826.66 and salario >= 1903.99:\n",
    "    aliquota = 7.5\n",
    "    deducao = 142.80\n",
    "else:\n",
    "    aliquota = 0\n",
    "    deducao = 0\n",
    "impostomensal = salario * (aliquota / 100) - deducao\n",
    "impostoanual = impostomensal * 12\n",
    "\n",
    "print(f\"Salário: {salario:.2f} R$\")\n",
    "print(f\"Alíquota: {aliquota:.2f} %\")\n",
    "print(f\"Imposto mensal: {impostomensal:.2f} R$\")\n",
    "print(f\"Imposto anual: {impostoanual:.2f} %$\")"
   ]
  },
  {
   "cell_type": "markdown",
   "metadata": {},
   "source": [
    "##### OPERADORES RELACIONAIS (>,<,>=,<=,==,!)\n",
    "\n",
    "Os operadores relacionais representam a terceira categoria de operadores da programação, e **são usados para comparar valores de variáveis e criar expressões condicionais**.\n",
    "\n",
    "> representa maior que;\n",
    "< representa menor que;\n",
    ">= representa maior ou igual;\n",
    "<= representa menor ou igual;\n",
    "== representa igual;\n",
    "!= representa diferente.\n",
    "\n",
    "Eles são usados nas declarações condicionais, as estruturas if e else."
   ]
  },
  {
   "cell_type": "markdown",
   "metadata": {},
   "source": [
    "##### OPERADORES LÓGICOS (&&,||,!)\n",
    "\n",
    "Os operadores lógicos são utilizados em programação para criar expressões condicionais masi complexas.\n",
    "\n",
    "&& ou and representa conjunção lógica;\n",
    "|| ou or representa disjunção lógica;\n",
    "!  ou not representa negação lógica.\n",
    "\n",
    "Esses operadores são usados com o intuito de criar expressões  do tipo verdadeiro ou falso, mas o seu funcionamento é um pouco mais complexo de compreender. Esses operadores geralmente são utilizados junto com os operadores relacionais."
   ]
  },
  {
   "cell_type": "code",
   "execution_count": null,
   "metadata": {},
   "outputs": [],
   "source": [
    "# && ou and.\n",
    "\n",
    "nivelacesso = 12\n",
    "if idade > 18 and nivelacesso > 10:\n",
    "    print(\"Você pode acessar o sistema!\") # O operador lógico && junta as duas expressões em uma única expressão maior, fazendo com que o if só seja executado caso as duas expressões sejam verdadeiras. O operador lógico junta duas ou mais expressões em uma só, com o objetivo montar uma expressão maior e mais complexa. Com a conjunção lógica, uma das expressões pode até ser verdadadeira, mas se uma for falsa, toda a expressão se torma falsa."
   ]
  },
  {
   "cell_type": "code",
   "execution_count": null,
   "metadata": {},
   "outputs": [],
   "source": [
    "# || ou or.\n",
    "# A disjunção lógica funciona de maneira bem parecida com o operador &&, a diferença, é na regra de avaliação.\n",
    "\n",
    "idade = 16\n",
    "nivelacesso = 12\n",
    "if idade > 18 or nivelacesso > 10:\n",
    "    print(\"Você pode acessar o sistema!\") # A expressão idade retornará um valor falso, já a expressão nivelacesso retornará um valor verdadeiro, dessa forma, pelo fato que uma das duas é verdadeira, a expressão como um todo se torna verdadeira. Para o operador de disjunção lógica, basta apenas que uma das expressões seja verdadeira."
   ]
  },
  {
   "cell_type": "code",
   "execution_count": null,
   "metadata": {},
   "outputs": [],
   "source": [
    "# ! ou not.\n",
    "# O operador de negação lógica, funciona com um inversor do resultado lógico.\n",
    "\n",
    "idade = 16\n",
    "if idade > 18:\n",
    "    print(\"Você pode acessar o sistema!\") # Observe que a expressão idade retorna falso, e como resultado, o comando não será executado. Porém podemos usar o operador de negação lógica para inverter o resultado da expressão assim:\n",
    "\n",
    "idade = 16\n",
    "if  not (idade > 18):\n",
    "    print(\"Você pode acessar o sistema!\")"
   ]
  },
  {
   "cell_type": "markdown",
   "metadata": {},
   "source": [
    "##### OPERADORES COMPOSTOS (++, --)\n",
    "\n",
    "**Os operadores compostos fornecem uma maneira mais curta para realizar algumas operações aritméticas**. Os dois algoritmos abaixa mostram o mesmo resultado, de forma diferente."
   ]
  },
  {
   "cell_type": "code",
   "execution_count": null,
   "metadata": {},
   "outputs": [],
   "source": [
    "x = 10\n",
    "x = x + 15\n",
    "print (x)\n",
    "\n",
    "x = 10\n",
    "x += 15\n",
    "print (x)\n",
    "\n",
    "x = 10\n",
    "x = x - 5\n",
    "print(x)\n",
    "\n",
    "x = 10\n",
    "x -= 5\n",
    "print(x)\n",
    "\n",
    "x = 10\n",
    "x = x * 8\n",
    "print(x)\n",
    "\n",
    "x = 10\n",
    "x *= 8\n",
    "print(x)"
   ]
  },
  {
   "cell_type": "markdown",
   "metadata": {},
   "source": [
    "++ representa incremento;\n",
    "-- representa decremento;\n",
    "+= representa atribuição-adição;\n",
    "-= representa atribuição-subtração;\n",
    "*= representa atribuição-multiplicação;\n",
    "/= representa atribuição-divisão;\n",
    "%= representa atribuição-resto.\n",
    "\n",
    "Exemplo - Valor com desconto, desconto de 12%."
   ]
  },
  {
   "cell_type": "code",
   "execution_count": null,
   "metadata": {},
   "outputs": [],
   "source": [
    "valor = float(input(\"Digite o valor do produto: \"))\n",
    "\n",
    "valor -= (valor * 12 / 100) # valor = valor - (valor *12/100)\n",
    "\n",
    "print(f\"Valor com desconto: {valor:.2f} R$\")"
   ]
  },
  {
   "cell_type": "markdown",
   "metadata": {},
   "source": [
    "##### ESTRUTURAS DE REPETIÇÃO\n",
    "\n",
    "Também conhecida como **loop** ou **laço**, uma **estrutura de repetição é uma construção que as lingugens de programação fornecem para que o programador possa economizar trabalho e esforço na escrita de um código**. Imagine que precisamos escrever um algoritmo para imprimir uma mensagem na tela 10 vezes."
   ]
  }
 ],
 "metadata": {
  "kernelspec": {
   "display_name": "Python 3 (ipykernel)",
   "language": "python",
   "name": "python3"
  },
  "language_info": {
   "codemirror_mode": {
    "name": "ipython",
    "version": 3
   },
   "file_extension": ".py",
   "mimetype": "text/x-python",
   "name": "python",
   "nbconvert_exporter": "python",
   "pygments_lexer": "ipython3",
   "version": "3.9.13"
  }
 },
 "nbformat": 4,
 "nbformat_minor": 2
}
